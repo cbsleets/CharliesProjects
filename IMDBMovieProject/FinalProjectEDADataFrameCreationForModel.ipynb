{
 "cells": [
  {
   "cell_type": "markdown",
   "metadata": {},
   "source": [
    "# IMDb Movie Data Frame Builder"
   ]
  },
  {
   "cell_type": "markdown",
   "metadata": {},
   "source": [
    "## Import Necessary Packages"
   ]
  },
  {
   "cell_type": "code",
   "execution_count": 35,
   "metadata": {
    "ExecuteTime": {
     "end_time": "2024-11-19T18:54:21.338137Z",
     "start_time": "2024-11-19T18:54:20.372322Z"
    }
   },
   "outputs": [],
   "source": [
    "%matplotlib inline\n",
    "from pathlib import Path\n",
    "\n",
    "import pandas as pd\n",
    "from sklearn.model_selection import train_test_split\n",
    "from sklearn.linear_model import LinearRegression, Lasso, LassoCV\n",
    "\n",
    "from sklearn.metrics import mean_absolute_error,mean_squared_error,mean_absolute_percentage_error\n",
    "import matplotlib.pyplot as plt\n",
    "\n",
    "from pandas.plotting import scatter_matrix, parallel_coordinates\n",
    "import seaborn as sns\n",
    "import numpy as np\n",
    "\n",
    "pd.set_option(\"display.max_columns\", 20)\n",
    "pd.set_option(\"display.max_rows\", 20)"
   ]
  },
  {
   "cell_type": "markdown",
   "metadata": {},
   "source": [
    "## Read in Data - Multiple datasets from IMDb's Non Commercial public Data Sets"
   ]
  },
  {
   "cell_type": "code",
   "execution_count": 36,
   "metadata": {
    "ExecuteTime": {
     "end_time": "2024-11-19T18:55:25.435260Z",
     "start_time": "2024-11-19T18:54:21.354770Z"
    }
   },
   "outputs": [],
   "source": [
    "imdbMovies_df = pd.read_csv(\"/home/cb072/CSCI349/csci349_2024fa/Final Project/IMDB Final Project - Charles Blanch/IMDB Model Data/title.basics.tsv\", sep='\\t', low_memory=False)\n",
    "imdbRatings_df = pd.read_csv(\"/home/cb072/CSCI349/csci349_2024fa/Final Project/IMDB Final Project - Charles Blanch/IMDB Model Data/title.ratings.tsv\", sep='\\t', low_memory=False)"
   ]
  },
  {
   "cell_type": "markdown",
   "metadata": {},
   "source": [
    "## Merge the Two Data Frames"
   ]
  },
  {
   "cell_type": "code",
   "execution_count": 37,
   "metadata": {
    "ExecuteTime": {
     "end_time": "2024-11-19T18:55:28.166020Z",
     "start_time": "2024-11-19T18:55:25.753759Z"
    }
   },
   "outputs": [],
   "source": [
    "# Merge the two data sets on the tconst column and drop duplicate columns\n",
    "imdb_df = pd.merge(imdbMovies_df, imdbRatings_df, on='tconst')\n",
    "imdb_df.drop(['originalTitle', 'endYear'], axis=1, inplace=True)"
   ]
  },
  {
   "cell_type": "code",
   "execution_count": 38,
   "metadata": {
    "ExecuteTime": {
     "end_time": "2024-11-19T18:55:28.339268Z",
     "start_time": "2024-11-19T18:55:28.201158Z"
    }
   },
   "outputs": [],
   "source": [
    "# Filter out movies with less than 50,000 votes and sort by rating\n",
    "popular_movies_df = imdb_df[(imdb_df['titleType'] == 'movie') & (imdb_df['numVotes'] > 100000)].sort_values(by=['averageRating', 'numVotes'], ascending=False)\n",
    "popular_movies_df.rename(columns={'tconst':'Const'}, inplace=True)"
   ]
  },
  {
   "cell_type": "code",
   "execution_count": 39,
   "metadata": {
    "ExecuteTime": {
     "end_time": "2024-11-19T18:55:38.134565Z",
     "start_time": "2024-11-19T18:55:28.376269Z"
    }
   },
   "outputs": [],
   "source": [
    "# Read in a new data set with the movie directors\n",
    "director_df = pd.read_csv(\"/home/cb072/CSCI349/csci349_2024fa/Final Project/IMDB Final Project - Charles Blanch/IMDB Model Data/title.crew.tsv\", sep='\\t', usecols=['tconst', 'directors'])\n",
    "director_df.rename(columns={'tconst': 'Const'}, inplace=True)"
   ]
  },
  {
   "cell_type": "code",
   "execution_count": 40,
   "metadata": {
    "ExecuteTime": {
     "end_time": "2024-11-19T18:55:47.579297Z",
     "start_time": "2024-11-19T18:55:38.274915Z"
    }
   },
   "outputs": [],
   "source": [
    "# Merge the directors into the popular movies data set\n",
    "popular_movies_df = pd.merge(popular_movies_df, director_df, on='Const', how='left')"
   ]
  },
  {
   "cell_type": "code",
   "execution_count": 41,
   "metadata": {
    "ExecuteTime": {
     "end_time": "2024-11-19T18:56:08.612614Z",
     "start_time": "2024-11-19T18:55:47.635257Z"
    }
   },
   "outputs": [],
   "source": [
    "# Read in a new data set with the names of movie actors and directors\n",
    "names_df = pd.read_csv(\"/home/cb072/CSCI349/csci349_2024fa/Final Project/IMDB Final Project - Charles Blanch/IMDB Model Data/name.basics.tsv\", sep='\\t', usecols=['nconst', 'primaryName'])"
   ]
  },
  {
   "cell_type": "code",
   "execution_count": 42,
   "metadata": {
    "ExecuteTime": {
     "end_time": "2024-11-19T18:56:28.110974Z",
     "start_time": "2024-11-19T18:56:08.730614Z"
    }
   },
   "outputs": [],
   "source": [
    "# Merge the names into the popular movies data set based on nconst\n",
    "popular_movies_df = pd.merge(popular_movies_df, names_df, left_on='directors', right_on='nconst', how='left')\n",
    "\n",
    "# Drop the columns that id columns\n",
    "popular_movies_df.drop(['directors', 'nconst'], axis=1, inplace=True)"
   ]
  },
  {
   "cell_type": "code",
   "execution_count": 43,
   "metadata": {
    "ExecuteTime": {
     "end_time": "2024-11-19T18:56:28.282963Z",
     "start_time": "2024-11-19T18:56:28.245046Z"
    }
   },
   "outputs": [],
   "source": [
    "# Fill in missing director names with 'Multiple Directors'\n",
    "popular_movies_df['primaryName'].fillna('Multiple Directors', inplace=True)"
   ]
  },
  {
   "cell_type": "code",
   "execution_count": 44,
   "metadata": {
    "ExecuteTime": {
     "end_time": "2024-11-19T18:56:28.647435Z",
     "start_time": "2024-11-19T18:56:28.525892Z"
    }
   },
   "outputs": [],
   "source": [
    "# Read in a new data set with user ratings - your own data can be used by downloading ratings off of IMDb website\n",
    "my_ratings_df = pd.read_csv(\"/home/cb072/CSCI349/csci349_2024fa/Final Project/IMDB Final Project - Charles Blanch/IMDB Model Data/ratings.csv\")\n",
    "my_ratings_df = my_ratings_df[my_ratings_df['Title Type'] == 'Movie']\n"
   ]
  },
  {
   "cell_type": "code",
   "execution_count": 45,
   "metadata": {
    "ExecuteTime": {
     "end_time": "2024-11-19T18:56:28.835318Z",
     "start_time": "2024-11-19T18:56:28.713154Z"
    }
   },
   "outputs": [
    {
     "data": {
      "text/html": [
       "<div>\n",
       "<style scoped>\n",
       "    .dataframe tbody tr th:only-of-type {\n",
       "        vertical-align: middle;\n",
       "    }\n",
       "\n",
       "    .dataframe tbody tr th {\n",
       "        vertical-align: top;\n",
       "    }\n",
       "\n",
       "    .dataframe thead th {\n",
       "        text-align: right;\n",
       "    }\n",
       "</style>\n",
       "<table border=\"1\" class=\"dataframe\">\n",
       "  <thead>\n",
       "    <tr style=\"text-align: right;\">\n",
       "      <th></th>\n",
       "      <th>Const</th>\n",
       "      <th>Your Rating</th>\n",
       "      <th>Date Rated</th>\n",
       "      <th>Title</th>\n",
       "      <th>Original Title</th>\n",
       "      <th>URL</th>\n",
       "      <th>Title Type</th>\n",
       "      <th>IMDb Rating</th>\n",
       "      <th>Runtime (mins)</th>\n",
       "      <th>Year</th>\n",
       "      <th>Genres</th>\n",
       "      <th>Num Votes</th>\n",
       "      <th>Release Date</th>\n",
       "      <th>Directors</th>\n",
       "    </tr>\n",
       "  </thead>\n",
       "  <tbody>\n",
       "    <tr>\n",
       "      <th>0</th>\n",
       "      <td>tt0338348</td>\n",
       "      <td>7</td>\n",
       "      <td>2024-11-18</td>\n",
       "      <td>The Polar Express</td>\n",
       "      <td>The Polar Express</td>\n",
       "      <td>https://www.imdb.com/title/tt0338348</td>\n",
       "      <td>Movie</td>\n",
       "      <td>6.6</td>\n",
       "      <td>100.0</td>\n",
       "      <td>2004</td>\n",
       "      <td>Animation, Musical, Adventure, Comedy, Family,...</td>\n",
       "      <td>247067</td>\n",
       "      <td>2004-11-10</td>\n",
       "      <td>Robert Zemeckis</td>\n",
       "    </tr>\n",
       "    <tr>\n",
       "      <th>1</th>\n",
       "      <td>tt0319343</td>\n",
       "      <td>7</td>\n",
       "      <td>2024-11-18</td>\n",
       "      <td>Elf</td>\n",
       "      <td>Elf</td>\n",
       "      <td>https://www.imdb.com/title/tt0319343</td>\n",
       "      <td>Movie</td>\n",
       "      <td>7.1</td>\n",
       "      <td>97.0</td>\n",
       "      <td>2003</td>\n",
       "      <td>Family, Fantasy, Romance, Adventure, Comedy</td>\n",
       "      <td>315842</td>\n",
       "      <td>2003-11-07</td>\n",
       "      <td>Jon Favreau</td>\n",
       "    </tr>\n",
       "    <tr>\n",
       "      <th>2</th>\n",
       "      <td>tt7991608</td>\n",
       "      <td>5</td>\n",
       "      <td>2024-11-18</td>\n",
       "      <td>Red Notice</td>\n",
       "      <td>Red Notice</td>\n",
       "      <td>https://www.imdb.com/title/tt7991608</td>\n",
       "      <td>Movie</td>\n",
       "      <td>6.3</td>\n",
       "      <td>118.0</td>\n",
       "      <td>2021</td>\n",
       "      <td>Action, Comedy, Thriller</td>\n",
       "      <td>329435</td>\n",
       "      <td>2021-11-12</td>\n",
       "      <td>Rawson Marshall Thurber</td>\n",
       "    </tr>\n",
       "    <tr>\n",
       "      <th>9</th>\n",
       "      <td>tt6263850</td>\n",
       "      <td>8</td>\n",
       "      <td>2024-07-27</td>\n",
       "      <td>Deadpool &amp; Wolverine</td>\n",
       "      <td>Deadpool &amp; Wolverine</td>\n",
       "      <td>https://www.imdb.com/title/tt6263850</td>\n",
       "      <td>Movie</td>\n",
       "      <td>7.7</td>\n",
       "      <td>128.0</td>\n",
       "      <td>2024</td>\n",
       "      <td>Action, Comedy, Sci-Fi, Adventure</td>\n",
       "      <td>381381</td>\n",
       "      <td>2024-07-26</td>\n",
       "      <td>Shawn Levy</td>\n",
       "    </tr>\n",
       "    <tr>\n",
       "      <th>10</th>\n",
       "      <td>tt0338013</td>\n",
       "      <td>9</td>\n",
       "      <td>2024-07-22</td>\n",
       "      <td>Eternal Sunshine of the Spotless Mind</td>\n",
       "      <td>Eternal Sunshine of the Spotless Mind</td>\n",
       "      <td>https://www.imdb.com/title/tt0338013</td>\n",
       "      <td>Movie</td>\n",
       "      <td>8.3</td>\n",
       "      <td>108.0</td>\n",
       "      <td>2004</td>\n",
       "      <td>Drama, Sci-Fi, Romance</td>\n",
       "      <td>1106236</td>\n",
       "      <td>2004-03-19</td>\n",
       "      <td>Michel Gondry</td>\n",
       "    </tr>\n",
       "    <tr>\n",
       "      <th>...</th>\n",
       "      <td>...</td>\n",
       "      <td>...</td>\n",
       "      <td>...</td>\n",
       "      <td>...</td>\n",
       "      <td>...</td>\n",
       "      <td>...</td>\n",
       "      <td>...</td>\n",
       "      <td>...</td>\n",
       "      <td>...</td>\n",
       "      <td>...</td>\n",
       "      <td>...</td>\n",
       "      <td>...</td>\n",
       "      <td>...</td>\n",
       "      <td>...</td>\n",
       "    </tr>\n",
       "    <tr>\n",
       "      <th>228</th>\n",
       "      <td>tt1745960</td>\n",
       "      <td>8</td>\n",
       "      <td>2022-08-13</td>\n",
       "      <td>Top Gun: Maverick</td>\n",
       "      <td>Top Gun: Maverick</td>\n",
       "      <td>https://www.imdb.com/title/tt1745960</td>\n",
       "      <td>Movie</td>\n",
       "      <td>8.2</td>\n",
       "      <td>130.0</td>\n",
       "      <td>2022</td>\n",
       "      <td>Action, Drama</td>\n",
       "      <td>740120</td>\n",
       "      <td>2022-05-27</td>\n",
       "      <td>Joseph Kosinski</td>\n",
       "    </tr>\n",
       "    <tr>\n",
       "      <th>229</th>\n",
       "      <td>tt0080684</td>\n",
       "      <td>9</td>\n",
       "      <td>2022-08-13</td>\n",
       "      <td>Star Wars: Episode V - The Empire Strikes Back</td>\n",
       "      <td>Star Wars: Episode V - The Empire Strikes Back</td>\n",
       "      <td>https://www.imdb.com/title/tt0080684</td>\n",
       "      <td>Movie</td>\n",
       "      <td>8.7</td>\n",
       "      <td>124.0</td>\n",
       "      <td>1980</td>\n",
       "      <td>Fantasy, Sci-Fi, Adventure, Action</td>\n",
       "      <td>1410871</td>\n",
       "      <td>1980-06-18</td>\n",
       "      <td>Irvin Kershner</td>\n",
       "    </tr>\n",
       "    <tr>\n",
       "      <th>230</th>\n",
       "      <td>tt1375666</td>\n",
       "      <td>9</td>\n",
       "      <td>2022-08-13</td>\n",
       "      <td>Inception</td>\n",
       "      <td>Inception</td>\n",
       "      <td>https://www.imdb.com/title/tt1375666</td>\n",
       "      <td>Movie</td>\n",
       "      <td>8.8</td>\n",
       "      <td>148.0</td>\n",
       "      <td>2010</td>\n",
       "      <td>Sci-Fi, Thriller, Action, Adventure</td>\n",
       "      <td>2614752</td>\n",
       "      <td>2010-07-16</td>\n",
       "      <td>Christopher Nolan</td>\n",
       "    </tr>\n",
       "    <tr>\n",
       "      <th>231</th>\n",
       "      <td>tt0468569</td>\n",
       "      <td>10</td>\n",
       "      <td>2022-08-13</td>\n",
       "      <td>The Dark Knight</td>\n",
       "      <td>The Dark Knight</td>\n",
       "      <td>https://www.imdb.com/title/tt0468569</td>\n",
       "      <td>Movie</td>\n",
       "      <td>9.0</td>\n",
       "      <td>152.0</td>\n",
       "      <td>2008</td>\n",
       "      <td>Drama, Crime, Thriller, Action</td>\n",
       "      <td>2946567</td>\n",
       "      <td>2008-07-18</td>\n",
       "      <td>Christopher Nolan</td>\n",
       "    </tr>\n",
       "    <tr>\n",
       "      <th>232</th>\n",
       "      <td>tt0111161</td>\n",
       "      <td>10</td>\n",
       "      <td>2022-08-13</td>\n",
       "      <td>The Shawshank Redemption</td>\n",
       "      <td>The Shawshank Redemption</td>\n",
       "      <td>https://www.imdb.com/title/tt0111161</td>\n",
       "      <td>Movie</td>\n",
       "      <td>9.3</td>\n",
       "      <td>142.0</td>\n",
       "      <td>1994</td>\n",
       "      <td>Drama</td>\n",
       "      <td>2965098</td>\n",
       "      <td>1994-10-14</td>\n",
       "      <td>Frank Darabont</td>\n",
       "    </tr>\n",
       "  </tbody>\n",
       "</table>\n",
       "<p>177 rows × 14 columns</p>\n",
       "</div>"
      ],
      "text/plain": [
       "         Const  Your Rating  Date Rated  \\\n",
       "0    tt0338348            7  2024-11-18   \n",
       "1    tt0319343            7  2024-11-18   \n",
       "2    tt7991608            5  2024-11-18   \n",
       "9    tt6263850            8  2024-07-27   \n",
       "10   tt0338013            9  2024-07-22   \n",
       "..         ...          ...         ...   \n",
       "228  tt1745960            8  2022-08-13   \n",
       "229  tt0080684            9  2022-08-13   \n",
       "230  tt1375666            9  2022-08-13   \n",
       "231  tt0468569           10  2022-08-13   \n",
       "232  tt0111161           10  2022-08-13   \n",
       "\n",
       "                                              Title  \\\n",
       "0                                 The Polar Express   \n",
       "1                                               Elf   \n",
       "2                                        Red Notice   \n",
       "9                              Deadpool & Wolverine   \n",
       "10            Eternal Sunshine of the Spotless Mind   \n",
       "..                                              ...   \n",
       "228                               Top Gun: Maverick   \n",
       "229  Star Wars: Episode V - The Empire Strikes Back   \n",
       "230                                       Inception   \n",
       "231                                 The Dark Knight   \n",
       "232                        The Shawshank Redemption   \n",
       "\n",
       "                                     Original Title  \\\n",
       "0                                 The Polar Express   \n",
       "1                                               Elf   \n",
       "2                                        Red Notice   \n",
       "9                              Deadpool & Wolverine   \n",
       "10            Eternal Sunshine of the Spotless Mind   \n",
       "..                                              ...   \n",
       "228                               Top Gun: Maverick   \n",
       "229  Star Wars: Episode V - The Empire Strikes Back   \n",
       "230                                       Inception   \n",
       "231                                 The Dark Knight   \n",
       "232                        The Shawshank Redemption   \n",
       "\n",
       "                                      URL Title Type  IMDb Rating  \\\n",
       "0    https://www.imdb.com/title/tt0338348      Movie          6.6   \n",
       "1    https://www.imdb.com/title/tt0319343      Movie          7.1   \n",
       "2    https://www.imdb.com/title/tt7991608      Movie          6.3   \n",
       "9    https://www.imdb.com/title/tt6263850      Movie          7.7   \n",
       "10   https://www.imdb.com/title/tt0338013      Movie          8.3   \n",
       "..                                    ...        ...          ...   \n",
       "228  https://www.imdb.com/title/tt1745960      Movie          8.2   \n",
       "229  https://www.imdb.com/title/tt0080684      Movie          8.7   \n",
       "230  https://www.imdb.com/title/tt1375666      Movie          8.8   \n",
       "231  https://www.imdb.com/title/tt0468569      Movie          9.0   \n",
       "232  https://www.imdb.com/title/tt0111161      Movie          9.3   \n",
       "\n",
       "     Runtime (mins)  Year                                             Genres  \\\n",
       "0             100.0  2004  Animation, Musical, Adventure, Comedy, Family,...   \n",
       "1              97.0  2003        Family, Fantasy, Romance, Adventure, Comedy   \n",
       "2             118.0  2021                           Action, Comedy, Thriller   \n",
       "9             128.0  2024                  Action, Comedy, Sci-Fi, Adventure   \n",
       "10            108.0  2004                             Drama, Sci-Fi, Romance   \n",
       "..              ...   ...                                                ...   \n",
       "228           130.0  2022                                      Action, Drama   \n",
       "229           124.0  1980                 Fantasy, Sci-Fi, Adventure, Action   \n",
       "230           148.0  2010                Sci-Fi, Thriller, Action, Adventure   \n",
       "231           152.0  2008                     Drama, Crime, Thriller, Action   \n",
       "232           142.0  1994                                              Drama   \n",
       "\n",
       "     Num Votes Release Date                Directors  \n",
       "0       247067   2004-11-10          Robert Zemeckis  \n",
       "1       315842   2003-11-07              Jon Favreau  \n",
       "2       329435   2021-11-12  Rawson Marshall Thurber  \n",
       "9       381381   2024-07-26               Shawn Levy  \n",
       "10     1106236   2004-03-19            Michel Gondry  \n",
       "..         ...          ...                      ...  \n",
       "228     740120   2022-05-27          Joseph Kosinski  \n",
       "229    1410871   1980-06-18           Irvin Kershner  \n",
       "230    2614752   2010-07-16        Christopher Nolan  \n",
       "231    2946567   2008-07-18        Christopher Nolan  \n",
       "232    2965098   1994-10-14           Frank Darabont  \n",
       "\n",
       "[177 rows x 14 columns]"
      ]
     },
     "execution_count": 45,
     "metadata": {},
     "output_type": "execute_result"
    }
   ],
   "source": [
    "my_ratings_df"
   ]
  },
  {
   "cell_type": "code",
   "execution_count": 46,
   "metadata": {
    "ExecuteTime": {
     "end_time": "2024-11-19T18:56:31.277189Z",
     "start_time": "2024-11-19T18:56:29.066370Z"
    }
   },
   "outputs": [],
   "source": [
    "# Merge the user ratings into the popular movies data set\n",
    "imdb_df = pd.merge(popular_movies_df, my_ratings_df, on='Const', how='left')\n"
   ]
  },
  {
   "cell_type": "code",
   "execution_count": 47,
   "metadata": {
    "ExecuteTime": {
     "end_time": "2024-11-19T18:56:31.467213Z",
     "start_time": "2024-11-19T18:56:31.440907Z"
    }
   },
   "outputs": [],
   "source": [
    "# Drop duplicate columns from merge\n",
    "imdb_df = imdb_df.drop(['Title', 'Title Type', 'IMDb Rating', \"Runtime (mins)\", \"Year\", \"Genres\", 'Num Votes', 'Release Date', 'URL', 'Directors'], axis = 1)"
   ]
  },
  {
   "cell_type": "code",
   "execution_count": 48,
   "metadata": {
    "ExecuteTime": {
     "end_time": "2024-11-19T18:56:31.515072Z",
     "start_time": "2024-11-19T18:56:31.490758Z"
    }
   },
   "outputs": [],
   "source": [
    "imdb_df['has_rated'] = imdb_df['Your Rating'].notnull()"
   ]
  },
  {
   "cell_type": "code",
   "execution_count": 49,
   "metadata": {
    "ExecuteTime": {
     "end_time": "2024-11-19T18:56:31.546037Z",
     "start_time": "2024-11-19T18:56:31.532040Z"
    }
   },
   "outputs": [],
   "source": [
    "#Rename columns for clarity\n",
    "imdb_df.rename(columns={'averageRating': 'IMDb Rating', 'primaryName': 'Director', 'Your Rating': 'My Rating'}, inplace=True)"
   ]
  },
  {
   "cell_type": "code",
   "execution_count": 50,
   "metadata": {
    "ExecuteTime": {
     "end_time": "2024-11-19T18:58:11.574052Z",
     "start_time": "2024-11-19T18:56:31.566634Z"
    }
   },
   "outputs": [],
   "source": [
    "# Read in a new data set with the movie cast                                                                                                                 \n",
    "interested_tconsts = set(imdb_df['Const'])\n",
    "\n",
    "# Initialize an empty list to store filtered chunks\n",
    "filtered_chunks = []\n",
    "\n",
    "# Define the chunk size\n",
    "chunk_size = 100000  # Adjust based on your system's memory capacity\n",
    "\n",
    "# Read in chunks\n",
    "for chunk in pd.read_csv(\"/home/cb072/CSCI349/csci349_2024fa/Final Project/IMDB Final Project - Charles Blanch/IMDB Model Data/title.principals.tsv\", sep='\\t', usecols=['tconst', 'nconst', 'ordering'], chunksize=chunk_size):\n",
    "    # Filter each chunk for rows where tconst is in interested_tconsts\n",
    "    filtered_chunk = chunk[chunk['tconst'].isin(interested_tconsts)]\n",
    "    filtered_chunks.append(filtered_chunk)\n",
    "\n",
    "# Concatenate the filtered chunks together\n",
    "cast_df = pd.concat(filtered_chunks, ignore_index=True)\n",
    "\n",
    "cast_df.rename(columns={'tconst': 'Const'}, inplace=True)"
   ]
  },
  {
   "cell_type": "code",
   "execution_count": 51,
   "metadata": {
    "ExecuteTime": {
     "end_time": "2024-11-19T18:58:11.778764Z",
     "start_time": "2024-11-19T18:58:11.696402Z"
    }
   },
   "outputs": [],
   "source": [
    "# Filters the cast data frame for only the movies that are in the complete data frame\n",
    "filtered_cast_df = pd.merge(cast_df, imdb_df[['Const']], on='Const', how='inner')\n",
    "\n",
    "# Filters the cast data frame for only the top 3 lead actors\n",
    "lead_cast_df = filtered_cast_df[filtered_cast_df['ordering'] <= 3]"
   ]
  },
  {
   "cell_type": "code",
   "execution_count": 52,
   "metadata": {
    "ExecuteTime": {
     "end_time": "2024-11-19T18:58:11.966343Z",
     "start_time": "2024-11-19T18:58:11.876750Z"
    }
   },
   "outputs": [],
   "source": [
    "# Pivots the lead cast data frame to get the top 3 lead actors in separate columns for each movie\n",
    "lead_cast_pivot = lead_cast_df.pivot(index='Const', columns='ordering', values='nconst').reset_index()\n",
    "\n",
    "lead_cast_pivot.columns = ['Const', 'lead_cast_1', 'lead_cast_2', 'lead_cast_3']"
   ]
  },
  {
   "cell_type": "code",
   "execution_count": 53,
   "metadata": {
    "ExecuteTime": {
     "end_time": "2024-11-19T18:58:12.169686Z",
     "start_time": "2024-11-19T18:58:12.035605Z"
    }
   },
   "outputs": [],
   "source": [
    "# Merge the lead actor ids into the complete data frame\n",
    "imdb_df = pd.merge(imdb_df, lead_cast_pivot, on='Const', how='left')"
   ]
  },
  {
   "cell_type": "code",
   "execution_count": 54,
   "metadata": {
    "ExecuteTime": {
     "end_time": "2024-11-19T18:59:30.198565Z",
     "start_time": "2024-11-19T18:58:12.255026Z"
    }
   },
   "outputs": [],
   "source": [
    "# Merge the names of the lead actors into the complete data frame\n",
    "for i in range(1, 4):  # For lead_cast_1, lead_cast_2, lead_cast_3\n",
    "    # Perform the merge operation with names_df to get names, but keep it separate\n",
    "    temp_df = pd.merge(imdb_df[['Const', f'lead_cast_{i}']], names_df, left_on=f'lead_cast_{i}', right_on='nconst', how='left')\n",
    "    \n",
    "    # Now, update complete_df by adding the new name column\n",
    "    imdb_df[f'lead_cast_{i}_name'] = temp_df['primaryName']\n",
    "\n",
    "# Drop the nconst columns\n",
    "imdb_df.drop(['lead_cast_1', 'lead_cast_2', 'lead_cast_3'], axis=1, inplace=True)"
   ]
  },
  {
   "cell_type": "markdown",
   "metadata": {},
   "source": [
    "## Create new dummy and observational columns & Clean Dataframe"
   ]
  },
  {
   "cell_type": "code",
   "execution_count": 55,
   "metadata": {
    "ExecuteTime": {
     "end_time": "2024-11-19T18:59:30.797114Z",
     "start_time": "2024-11-19T18:59:30.670116Z"
    }
   },
   "outputs": [],
   "source": [
    "# Drop unnecessary columns - titleType is always 'movie', isAdult is always 0\n",
    "imdb_df = imdb_df.drop(columns=[\"titleType\", \"isAdult\"])\n",
    "\n",
    "# Rename columns for clarity\n",
    "imdb_df.rename(columns={\"startYear\": \"ReleaseYear\", \"primaryTitle\": \"Title\", \"runtimeMinutes\": \"Runtime\"}, inplace=True)\n",
    "\n",
    "# Create an Age column in years\n",
    "imdb_df[\"ReleaseYear\"] = imdb_df[\"ReleaseYear\"].astype(int)\n",
    "imdb_df[\"Age\"] = 2024 - imdb_df[\"ReleaseYear\"]\n",
    "\n",
    "# Create a column for the difference between my rating and IMDb rating\n",
    "imdb_df[\"DifferenceBetweenRatings\"] = imdb_df[\"My Rating\"] - imdb_df[\"IMDb Rating\"]\n",
    "\n",
    "# Create a dummy column for if a movie is longer than 2 hours\n",
    "imdb_df[\"Runtime\"] = imdb_df[\"Runtime\"].astype(int)\n",
    "imdb_df[\"LongMovie\"] = imdb_df[\"Runtime\"] > 120"
   ]
  },
  {
   "cell_type": "code",
   "execution_count": 56,
   "metadata": {
    "ExecuteTime": {
     "end_time": "2024-11-19T18:59:31.973980Z",
     "start_time": "2024-11-19T18:59:31.891974Z"
    }
   },
   "outputs": [],
   "source": [
    "director_counts = imdb_df['Director'].value_counts()\n",
    "\n",
    "famous_directors = director_counts[director_counts >= 4].index.tolist()\n",
    "\n",
    "imdb_df['Famous Director'] = imdb_df['Director'].isin(famous_directors)"
   ]
  },
  {
   "cell_type": "code",
   "execution_count": 57,
   "metadata": {
    "ExecuteTime": {
     "end_time": "2024-11-19T18:59:32.067975Z",
     "start_time": "2024-11-19T18:59:32.006978Z"
    }
   },
   "outputs": [],
   "source": [
    "# Calculate the upper 10th percentile of numVotes\n",
    "upper_10th_percentile = imdb_df['numVotes'].quantile(0.9)\n",
    "\n",
    "# Create the SuperFamousMovie column based on the upper 10th percentile\n",
    "imdb_df['SuperFamousMovie'] = imdb_df['numVotes'] > upper_10th_percentile"
   ]
  },
  {
   "cell_type": "code",
   "execution_count": 58,
   "metadata": {
    "ExecuteTime": {
     "end_time": "2024-11-19T18:59:32.366975Z",
     "start_time": "2024-11-19T18:59:32.221980Z"
    }
   },
   "outputs": [],
   "source": [
    "# Split the genres column into multiple columns\n",
    "genre_columns = imdb_df['genres'].str.split(',', expand=True)\n",
    "\n",
    "# Rename the genre columns\n",
    "genre_columns.columns = ['Genre1', 'Genre2', 'Genre3']\n",
    "\n",
    "# Concatenate the genre columns with the original dataframe\n",
    "imdb_df = pd.concat([imdb_df, genre_columns], axis=1)"
   ]
  },
  {
   "cell_type": "code",
   "execution_count": 59,
   "metadata": {
    "ExecuteTime": {
     "end_time": "2024-11-19T18:59:32.572114Z",
     "start_time": "2024-11-19T18:59:32.533113Z"
    }
   },
   "outputs": [],
   "source": [
    "# Reorder the columns\n",
    "imdb_df = imdb_df[['Const', 'Title', 'Director', 'Famous Director', 'ReleaseYear', 'Age', 'Runtime', 'LongMovie', 'genres', 'Genre1', 'Genre2', 'Genre3', 'numVotes', 'IMDb Rating',  'My Rating', 'DifferenceBetweenRatings', 'has_rated', 'Date Rated', 'lead_cast_1_name', 'lead_cast_2_name', 'lead_cast_3_name', 'SuperFamousMovie']]"
   ]
  },
  {
   "cell_type": "code",
   "execution_count": 60,
   "metadata": {
    "ExecuteTime": {
     "end_time": "2024-11-19T18:59:32.745114Z",
     "start_time": "2024-11-19T18:59:32.722113Z"
    }
   },
   "outputs": [],
   "source": [
    "# Create a seperate data frame for movies that the user has reviewed\n",
    "reviewed_df = imdb_df[imdb_df['has_rated'] == True]"
   ]
  },
  {
   "cell_type": "markdown",
   "metadata": {},
   "source": [
    "#### Create Dummy Columns for top directors"
   ]
  },
  {
   "cell_type": "code",
   "execution_count": 61,
   "metadata": {
    "ExecuteTime": {
     "end_time": "2024-11-19T18:59:36.081852Z",
     "start_time": "2024-11-19T18:59:32.951353Z"
    }
   },
   "outputs": [
    {
     "name": "stderr",
     "output_type": "stream",
     "text": [
      "/tmp/ipykernel_1238084/2005626711.py:11: SettingWithCopyWarning: \n",
      "A value is trying to be set on a copy of a slice from a DataFrame.\n",
      "Try using .loc[row_indexer,col_indexer] = value instead\n",
      "\n",
      "See the caveats in the documentation: https://pandas.pydata.org/pandas-docs/stable/user_guide/indexing.html#returning-a-view-versus-a-copy\n",
      "  reviewed_df[column_name] = reviewed_df['Director'].str.lower().str.contains(director.lower())\n",
      "/tmp/ipykernel_1238084/2005626711.py:11: SettingWithCopyWarning: \n",
      "A value is trying to be set on a copy of a slice from a DataFrame.\n",
      "Try using .loc[row_indexer,col_indexer] = value instead\n",
      "\n",
      "See the caveats in the documentation: https://pandas.pydata.org/pandas-docs/stable/user_guide/indexing.html#returning-a-view-versus-a-copy\n",
      "  reviewed_df[column_name] = reviewed_df['Director'].str.lower().str.contains(director.lower())\n",
      "/tmp/ipykernel_1238084/2005626711.py:11: SettingWithCopyWarning: \n",
      "A value is trying to be set on a copy of a slice from a DataFrame.\n",
      "Try using .loc[row_indexer,col_indexer] = value instead\n",
      "\n",
      "See the caveats in the documentation: https://pandas.pydata.org/pandas-docs/stable/user_guide/indexing.html#returning-a-view-versus-a-copy\n",
      "  reviewed_df[column_name] = reviewed_df['Director'].str.lower().str.contains(director.lower())\n",
      "/tmp/ipykernel_1238084/2005626711.py:11: SettingWithCopyWarning: \n",
      "A value is trying to be set on a copy of a slice from a DataFrame.\n",
      "Try using .loc[row_indexer,col_indexer] = value instead\n",
      "\n",
      "See the caveats in the documentation: https://pandas.pydata.org/pandas-docs/stable/user_guide/indexing.html#returning-a-view-versus-a-copy\n",
      "  reviewed_df[column_name] = reviewed_df['Director'].str.lower().str.contains(director.lower())\n",
      "/tmp/ipykernel_1238084/2005626711.py:11: SettingWithCopyWarning: \n",
      "A value is trying to be set on a copy of a slice from a DataFrame.\n",
      "Try using .loc[row_indexer,col_indexer] = value instead\n",
      "\n",
      "See the caveats in the documentation: https://pandas.pydata.org/pandas-docs/stable/user_guide/indexing.html#returning-a-view-versus-a-copy\n",
      "  reviewed_df[column_name] = reviewed_df['Director'].str.lower().str.contains(director.lower())\n",
      "/tmp/ipykernel_1238084/2005626711.py:16: SettingWithCopyWarning: \n",
      "A value is trying to be set on a copy of a slice from a DataFrame.\n",
      "Try using .loc[row_indexer,col_indexer] = value instead\n",
      "\n",
      "See the caveats in the documentation: https://pandas.pydata.org/pandas-docs/stable/user_guide/indexing.html#returning-a-view-versus-a-copy\n",
      "  reviewed_df[column_name] = reviewed_df['Director'].str.lower().str.contains(director.lower())\n",
      "/tmp/ipykernel_1238084/2005626711.py:16: SettingWithCopyWarning: \n",
      "A value is trying to be set on a copy of a slice from a DataFrame.\n",
      "Try using .loc[row_indexer,col_indexer] = value instead\n",
      "\n",
      "See the caveats in the documentation: https://pandas.pydata.org/pandas-docs/stable/user_guide/indexing.html#returning-a-view-versus-a-copy\n",
      "  reviewed_df[column_name] = reviewed_df['Director'].str.lower().str.contains(director.lower())\n",
      "/tmp/ipykernel_1238084/2005626711.py:16: SettingWithCopyWarning: \n",
      "A value is trying to be set on a copy of a slice from a DataFrame.\n",
      "Try using .loc[row_indexer,col_indexer] = value instead\n",
      "\n",
      "See the caveats in the documentation: https://pandas.pydata.org/pandas-docs/stable/user_guide/indexing.html#returning-a-view-versus-a-copy\n",
      "  reviewed_df[column_name] = reviewed_df['Director'].str.lower().str.contains(director.lower())\n",
      "/tmp/ipykernel_1238084/2005626711.py:16: SettingWithCopyWarning: \n",
      "A value is trying to be set on a copy of a slice from a DataFrame.\n",
      "Try using .loc[row_indexer,col_indexer] = value instead\n",
      "\n",
      "See the caveats in the documentation: https://pandas.pydata.org/pandas-docs/stable/user_guide/indexing.html#returning-a-view-versus-a-copy\n",
      "  reviewed_df[column_name] = reviewed_df['Director'].str.lower().str.contains(director.lower())\n",
      "/tmp/ipykernel_1238084/2005626711.py:16: SettingWithCopyWarning: \n",
      "A value is trying to be set on a copy of a slice from a DataFrame.\n",
      "Try using .loc[row_indexer,col_indexer] = value instead\n",
      "\n",
      "See the caveats in the documentation: https://pandas.pydata.org/pandas-docs/stable/user_guide/indexing.html#returning-a-view-versus-a-copy\n",
      "  reviewed_df[column_name] = reviewed_df['Director'].str.lower().str.contains(director.lower())\n"
     ]
    }
   ],
   "source": [
    "# Get the top 10 directors excluding \"Multiple Directors\" - Uses director counts from famousDirector column before\n",
    "top_10_directors = director_counts[director_counts.index != 'Multiple Directors'].head(10)\n",
    "\n",
    "# Get the top 10 directors excluding \"Multiple Directors\"\n",
    "reviewed_director_counts = reviewed_df['Director'].value_counts()\n",
    "top_10_reviewed_directors = reviewed_director_counts[reviewed_director_counts.index != 'Multiple Directors'].head(10)\n",
    "\n",
    "# Creates dummy variables for the top 5 directors in reviewed movies and in all movies\n",
    "for director in list(top_10_reviewed_directors.keys())[:5]:\n",
    "    column_name = 'is_' + director.lower().replace(' ', '_')\n",
    "    reviewed_df[column_name] = reviewed_df['Director'].str.lower().str.contains(director.lower())\n",
    "    imdb_df[column_name] = imdb_df['Director'].str.lower().str.contains(director.lower())\n",
    "\n",
    "for director in list(top_10_directors.keys())[:5]:\n",
    "    column_name = 'is_' + director.lower().replace(' ', '_')\n",
    "    reviewed_df[column_name] = reviewed_df['Director'].str.lower().str.contains(director.lower())\n",
    "    imdb_df[column_name] = imdb_df['Director'].str.lower().str.contains(director.lower())"
   ]
  },
  {
   "cell_type": "code",
   "execution_count": 62,
   "metadata": {
    "ExecuteTime": {
     "end_time": "2024-11-19T18:59:36.351027Z",
     "start_time": "2024-11-19T18:59:36.227030Z"
    }
   },
   "outputs": [
    {
     "name": "stderr",
     "output_type": "stream",
     "text": [
      "/tmp/ipykernel_1238084/2559324673.py:28: SettingWithCopyWarning: \n",
      "A value is trying to be set on a copy of a slice from a DataFrame.\n",
      "Try using .loc[row_indexer,col_indexer] = value instead\n",
      "\n",
      "See the caveats in the documentation: https://pandas.pydata.org/pandas-docs/stable/user_guide/indexing.html#returning-a-view-versus-a-copy\n",
      "  reviewed_df[column_name] = reviewed_df['genres'].str.lower().str.contains(genre.lower())\n",
      "/tmp/ipykernel_1238084/2559324673.py:28: SettingWithCopyWarning: \n",
      "A value is trying to be set on a copy of a slice from a DataFrame.\n",
      "Try using .loc[row_indexer,col_indexer] = value instead\n",
      "\n",
      "See the caveats in the documentation: https://pandas.pydata.org/pandas-docs/stable/user_guide/indexing.html#returning-a-view-versus-a-copy\n",
      "  reviewed_df[column_name] = reviewed_df['genres'].str.lower().str.contains(genre.lower())\n",
      "/tmp/ipykernel_1238084/2559324673.py:28: SettingWithCopyWarning: \n",
      "A value is trying to be set on a copy of a slice from a DataFrame.\n",
      "Try using .loc[row_indexer,col_indexer] = value instead\n",
      "\n",
      "See the caveats in the documentation: https://pandas.pydata.org/pandas-docs/stable/user_guide/indexing.html#returning-a-view-versus-a-copy\n",
      "  reviewed_df[column_name] = reviewed_df['genres'].str.lower().str.contains(genre.lower())\n",
      "/tmp/ipykernel_1238084/2559324673.py:28: SettingWithCopyWarning: \n",
      "A value is trying to be set on a copy of a slice from a DataFrame.\n",
      "Try using .loc[row_indexer,col_indexer] = value instead\n",
      "\n",
      "See the caveats in the documentation: https://pandas.pydata.org/pandas-docs/stable/user_guide/indexing.html#returning-a-view-versus-a-copy\n",
      "  reviewed_df[column_name] = reviewed_df['genres'].str.lower().str.contains(genre.lower())\n",
      "/tmp/ipykernel_1238084/2559324673.py:28: SettingWithCopyWarning: \n",
      "A value is trying to be set on a copy of a slice from a DataFrame.\n",
      "Try using .loc[row_indexer,col_indexer] = value instead\n",
      "\n",
      "See the caveats in the documentation: https://pandas.pydata.org/pandas-docs/stable/user_guide/indexing.html#returning-a-view-versus-a-copy\n",
      "  reviewed_df[column_name] = reviewed_df['genres'].str.lower().str.contains(genre.lower())\n",
      "/tmp/ipykernel_1238084/2559324673.py:28: SettingWithCopyWarning: \n",
      "A value is trying to be set on a copy of a slice from a DataFrame.\n",
      "Try using .loc[row_indexer,col_indexer] = value instead\n",
      "\n",
      "See the caveats in the documentation: https://pandas.pydata.org/pandas-docs/stable/user_guide/indexing.html#returning-a-view-versus-a-copy\n",
      "  reviewed_df[column_name] = reviewed_df['genres'].str.lower().str.contains(genre.lower())\n",
      "/tmp/ipykernel_1238084/2559324673.py:28: SettingWithCopyWarning: \n",
      "A value is trying to be set on a copy of a slice from a DataFrame.\n",
      "Try using .loc[row_indexer,col_indexer] = value instead\n",
      "\n",
      "See the caveats in the documentation: https://pandas.pydata.org/pandas-docs/stable/user_guide/indexing.html#returning-a-view-versus-a-copy\n",
      "  reviewed_df[column_name] = reviewed_df['genres'].str.lower().str.contains(genre.lower())\n",
      "/tmp/ipykernel_1238084/2559324673.py:28: SettingWithCopyWarning: \n",
      "A value is trying to be set on a copy of a slice from a DataFrame.\n",
      "Try using .loc[row_indexer,col_indexer] = value instead\n",
      "\n",
      "See the caveats in the documentation: https://pandas.pydata.org/pandas-docs/stable/user_guide/indexing.html#returning-a-view-versus-a-copy\n",
      "  reviewed_df[column_name] = reviewed_df['genres'].str.lower().str.contains(genre.lower())\n",
      "/tmp/ipykernel_1238084/2559324673.py:28: SettingWithCopyWarning: \n",
      "A value is trying to be set on a copy of a slice from a DataFrame.\n",
      "Try using .loc[row_indexer,col_indexer] = value instead\n",
      "\n",
      "See the caveats in the documentation: https://pandas.pydata.org/pandas-docs/stable/user_guide/indexing.html#returning-a-view-versus-a-copy\n",
      "  reviewed_df[column_name] = reviewed_df['genres'].str.lower().str.contains(genre.lower())\n",
      "/tmp/ipykernel_1238084/2559324673.py:28: SettingWithCopyWarning: \n",
      "A value is trying to be set on a copy of a slice from a DataFrame.\n",
      "Try using .loc[row_indexer,col_indexer] = value instead\n",
      "\n",
      "See the caveats in the documentation: https://pandas.pydata.org/pandas-docs/stable/user_guide/indexing.html#returning-a-view-versus-a-copy\n",
      "  reviewed_df[column_name] = reviewed_df['genres'].str.lower().str.contains(genre.lower())\n",
      "/tmp/ipykernel_1238084/2559324673.py:28: SettingWithCopyWarning: \n",
      "A value is trying to be set on a copy of a slice from a DataFrame.\n",
      "Try using .loc[row_indexer,col_indexer] = value instead\n",
      "\n",
      "See the caveats in the documentation: https://pandas.pydata.org/pandas-docs/stable/user_guide/indexing.html#returning-a-view-versus-a-copy\n",
      "  reviewed_df[column_name] = reviewed_df['genres'].str.lower().str.contains(genre.lower())\n"
     ]
    }
   ],
   "source": [
    "# Create dummies for top genres\n",
    "genre_group = reviewed_df.groupby('Genre1')\n",
    "genre_summary1 = genre_group.agg({'Genre1': 'count', 'IMDb Rating': 'sum', \"My Rating\": \"sum\"})\n",
    "genre_summary1.columns = ['Genre Count', 'Total IMDb Rating', 'Total My Rating']\n",
    "\n",
    "genre_group = reviewed_df.groupby('Genre2')\n",
    "genre_summary2 = genre_group.agg({'Genre2': 'count', 'IMDb Rating': 'sum', \"My Rating\": \"sum\"})\n",
    "genre_summary2.columns = ['Genre Count', 'Total IMDb Rating', 'Total My Rating']\n",
    "\n",
    "genre_group = reviewed_df.groupby('Genre3')\n",
    "genre_summary3 = genre_group.agg({'Genre3': 'count', 'IMDb Rating': 'sum', \"My Rating\": \"sum\"})\n",
    "genre_summary3.columns = ['Genre Count', 'Total IMDb Rating', 'Total My Rating']\n",
    "\n",
    "reviewed_genre_summary = pd.concat([genre_summary1, genre_summary2, genre_summary3])\n",
    "reviewed_genre_summary = reviewed_genre_summary.groupby(level=0).sum()\n",
    "reviewed_genre_summary[\"Average Rating\"] = reviewed_genre_summary[\"Total IMDb Rating\"] / reviewed_genre_summary[\"Genre Count\"]\n",
    "reviewed_genre_summary[\"My Average Rating\"] = reviewed_genre_summary[\"Total My Rating\"] / reviewed_genre_summary[\"Genre Count\"]\n",
    "reviewed_genre_summary[\"Difference\"] = reviewed_genre_summary[\"My Average Rating\"] - reviewed_genre_summary[\"Average Rating\"]\n",
    "\n",
    "# After making a summary table for the genres, this code creates dummy variables for genres \n",
    "# with an absolute difference of more than 0.5 or an average rating of more than 8\n",
    "for genre in reviewed_genre_summary.index:\n",
    "    difference = reviewed_genre_summary.loc[genre, 'Difference']\n",
    "    my_average_rating = reviewed_genre_summary.loc[genre, 'My Average Rating']\n",
    "    \n",
    "    if abs(difference) > 0.5 or my_average_rating > 8:\n",
    "        column_name = 'is' + genre.lower().replace(' ', '_')\n",
    "        reviewed_df[column_name] = reviewed_df['genres'].str.lower().str.contains(genre.lower())\n",
    "        imdb_df[column_name] = imdb_df['genres'].str.lower().str.contains(genre.lower())"
   ]
  },
  {
   "cell_type": "code",
   "execution_count": 63,
   "metadata": {
    "ExecuteTime": {
     "end_time": "2024-11-19T18:59:36.682170Z",
     "start_time": "2024-11-19T18:59:36.549850Z"
    }
   },
   "outputs": [
    {
     "name": "stderr",
     "output_type": "stream",
     "text": [
      "/tmp/ipykernel_1238084/1273225276.py:39: SettingWithCopyWarning: \n",
      "A value is trying to be set on a copy of a slice from a DataFrame.\n",
      "Try using .loc[row_indexer,col_indexer] = value instead\n",
      "\n",
      "See the caveats in the documentation: https://pandas.pydata.org/pandas-docs/stable/user_guide/indexing.html#returning-a-view-versus-a-copy\n",
      "  reviewed_df[column_name] = reviewed_df[['lead_cast_1_name', 'lead_cast_2_name', 'lead_cast_3_name']].apply(lambda x: actor in x.values, axis=1)\n",
      "/tmp/ipykernel_1238084/1273225276.py:39: SettingWithCopyWarning: \n",
      "A value is trying to be set on a copy of a slice from a DataFrame.\n",
      "Try using .loc[row_indexer,col_indexer] = value instead\n",
      "\n",
      "See the caveats in the documentation: https://pandas.pydata.org/pandas-docs/stable/user_guide/indexing.html#returning-a-view-versus-a-copy\n",
      "  reviewed_df[column_name] = reviewed_df[['lead_cast_1_name', 'lead_cast_2_name', 'lead_cast_3_name']].apply(lambda x: actor in x.values, axis=1)\n",
      "/tmp/ipykernel_1238084/1273225276.py:39: SettingWithCopyWarning: \n",
      "A value is trying to be set on a copy of a slice from a DataFrame.\n",
      "Try using .loc[row_indexer,col_indexer] = value instead\n",
      "\n",
      "See the caveats in the documentation: https://pandas.pydata.org/pandas-docs/stable/user_guide/indexing.html#returning-a-view-versus-a-copy\n",
      "  reviewed_df[column_name] = reviewed_df[['lead_cast_1_name', 'lead_cast_2_name', 'lead_cast_3_name']].apply(lambda x: actor in x.values, axis=1)\n",
      "/tmp/ipykernel_1238084/1273225276.py:39: SettingWithCopyWarning: \n",
      "A value is trying to be set on a copy of a slice from a DataFrame.\n",
      "Try using .loc[row_indexer,col_indexer] = value instead\n",
      "\n",
      "See the caveats in the documentation: https://pandas.pydata.org/pandas-docs/stable/user_guide/indexing.html#returning-a-view-versus-a-copy\n",
      "  reviewed_df[column_name] = reviewed_df[['lead_cast_1_name', 'lead_cast_2_name', 'lead_cast_3_name']].apply(lambda x: actor in x.values, axis=1)\n",
      "/tmp/ipykernel_1238084/1273225276.py:39: SettingWithCopyWarning: \n",
      "A value is trying to be set on a copy of a slice from a DataFrame.\n",
      "Try using .loc[row_indexer,col_indexer] = value instead\n",
      "\n",
      "See the caveats in the documentation: https://pandas.pydata.org/pandas-docs/stable/user_guide/indexing.html#returning-a-view-versus-a-copy\n",
      "  reviewed_df[column_name] = reviewed_df[['lead_cast_1_name', 'lead_cast_2_name', 'lead_cast_3_name']].apply(lambda x: actor in x.values, axis=1)\n",
      "/tmp/ipykernel_1238084/1273225276.py:39: SettingWithCopyWarning: \n",
      "A value is trying to be set on a copy of a slice from a DataFrame.\n",
      "Try using .loc[row_indexer,col_indexer] = value instead\n",
      "\n",
      "See the caveats in the documentation: https://pandas.pydata.org/pandas-docs/stable/user_guide/indexing.html#returning-a-view-versus-a-copy\n",
      "  reviewed_df[column_name] = reviewed_df[['lead_cast_1_name', 'lead_cast_2_name', 'lead_cast_3_name']].apply(lambda x: actor in x.values, axis=1)\n",
      "/tmp/ipykernel_1238084/1273225276.py:39: SettingWithCopyWarning: \n",
      "A value is trying to be set on a copy of a slice from a DataFrame.\n",
      "Try using .loc[row_indexer,col_indexer] = value instead\n",
      "\n",
      "See the caveats in the documentation: https://pandas.pydata.org/pandas-docs/stable/user_guide/indexing.html#returning-a-view-versus-a-copy\n",
      "  reviewed_df[column_name] = reviewed_df[['lead_cast_1_name', 'lead_cast_2_name', 'lead_cast_3_name']].apply(lambda x: actor in x.values, axis=1)\n",
      "/tmp/ipykernel_1238084/1273225276.py:39: SettingWithCopyWarning: \n",
      "A value is trying to be set on a copy of a slice from a DataFrame.\n",
      "Try using .loc[row_indexer,col_indexer] = value instead\n",
      "\n",
      "See the caveats in the documentation: https://pandas.pydata.org/pandas-docs/stable/user_guide/indexing.html#returning-a-view-versus-a-copy\n",
      "  reviewed_df[column_name] = reviewed_df[['lead_cast_1_name', 'lead_cast_2_name', 'lead_cast_3_name']].apply(lambda x: actor in x.values, axis=1)\n",
      "/tmp/ipykernel_1238084/1273225276.py:39: SettingWithCopyWarning: \n",
      "A value is trying to be set on a copy of a slice from a DataFrame.\n",
      "Try using .loc[row_indexer,col_indexer] = value instead\n",
      "\n",
      "See the caveats in the documentation: https://pandas.pydata.org/pandas-docs/stable/user_guide/indexing.html#returning-a-view-versus-a-copy\n",
      "  reviewed_df[column_name] = reviewed_df[['lead_cast_1_name', 'lead_cast_2_name', 'lead_cast_3_name']].apply(lambda x: actor in x.values, axis=1)\n",
      "/tmp/ipykernel_1238084/1273225276.py:39: SettingWithCopyWarning: \n",
      "A value is trying to be set on a copy of a slice from a DataFrame.\n",
      "Try using .loc[row_indexer,col_indexer] = value instead\n",
      "\n",
      "See the caveats in the documentation: https://pandas.pydata.org/pandas-docs/stable/user_guide/indexing.html#returning-a-view-versus-a-copy\n",
      "  reviewed_df[column_name] = reviewed_df[['lead_cast_1_name', 'lead_cast_2_name', 'lead_cast_3_name']].apply(lambda x: actor in x.values, axis=1)\n"
     ]
    }
   ],
   "source": [
    "# Create a list of all unique lead actors\n",
    "all_lead_actors = pd.concat([reviewed_df['lead_cast_1_name'], reviewed_df['lead_cast_2_name'], reviewed_df['lead_cast_3_name']]).unique()\n",
    "\n",
    "# Initialize the temporary dataframe with columns for each lead actor\n",
    "temp_lead_actors_df = pd.DataFrame(0, index=reviewed_df.index, columns=all_lead_actors)\n",
    "\n",
    "# Iterate through each movie and add the \"My Rating\" to the corresponding lead actor columns, ensuring each actor is only counted once per movie\n",
    "for idx, row in reviewed_df.iterrows():\n",
    "    actors_seen = set()\n",
    "    for lead_actor in ['lead_cast_1_name', 'lead_cast_2_name', 'lead_cast_3_name']:\n",
    "        actor_name = row[lead_actor]\n",
    "        if pd.notna(actor_name) and actor_name not in actors_seen:\n",
    "            temp_lead_actors_df.at[idx, actor_name] += row['My Rating']\n",
    "            actors_seen.add(actor_name)\n",
    "\n",
    "# Calculate the total ratings and total observations for each lead actor\n",
    "total_lead_actor_ratings = temp_lead_actors_df.sum()\n",
    "total_lead_actor_observations = (temp_lead_actors_df > 0).sum()\n",
    "\n",
    "# Calculate the average rating for each lead actor\n",
    "average_lead_actor_ratings = total_lead_actor_ratings / total_lead_actor_observations\n",
    "\n",
    "# Apply a weighting factor to reward actors who have been in more movies\n",
    "weighting_factor = np.log1p(total_lead_actor_observations)  # Using log1p to avoid zero and smooth the effect\n",
    "weighted_average_ratings = average_lead_actor_ratings * weighting_factor\n",
    "\n",
    "# Normalize the weighted average ratings to fit within the range of 1 to 10\n",
    "min_rating = weighted_average_ratings.min()\n",
    "max_rating = weighted_average_ratings.max()\n",
    "normalized_weighted_ratings = 1 + 9 * (weighted_average_ratings - min_rating) / (max_rating - min_rating)\n",
    "\n",
    "# Get the top 7 best actors and bottom 3 worst actors based on normalized weighted average rating\n",
    "top_7_best_actors = normalized_weighted_ratings.nlargest(7)\n",
    "bottom_3_worst_actors = normalized_weighted_ratings.nsmallest(3)\n",
    "\n",
    "# Create dummy variables for each actor in the top 7 best actors and bottom 3 worst actors list\n",
    "for actor in top_7_best_actors.index.tolist() + bottom_3_worst_actors.index.tolist():\n",
    "    column_name = 'is_' + actor.lower().replace(' ', '_')\n",
    "    reviewed_df[column_name] = reviewed_df[['lead_cast_1_name', 'lead_cast_2_name', 'lead_cast_3_name']].apply(lambda x: actor in x.values, axis=1)\n",
    "    imdb_df[column_name] = imdb_df[['lead_cast_1_name', 'lead_cast_2_name', 'lead_cast_3_name']].apply(lambda x: actor in x.values, axis=1)"
   ]
  },
  {
   "cell_type": "code",
   "execution_count": 64,
   "metadata": {},
   "outputs": [],
   "source": [
    "if 'Age' in reviewed_df.columns:\n",
    "    # Create dummy variables for age categories\n",
    "    reviewed_df = pd.concat([reviewed_df, pd.get_dummies(pd.cut(reviewed_df['Age'], bins=[-1, 10, 25, np.inf], labels=['New', 'Old', 'Classic']), prefix='is')], axis=1)\n",
    "if 'Age' in imdb_df.columns:\n",
    "    # Create dummy variables for age categories\n",
    "    imdb_df = pd.concat([imdb_df, pd.get_dummies(pd.cut(imdb_df['Age'], bins=[-1, 10, 25, np.inf], labels=['New', 'Old', 'Classic']), prefix='is')], axis=1)"
   ]
  },
  {
   "cell_type": "markdown",
   "metadata": {},
   "source": [
    "## Below you can download both imdb_df and reviewed_df to be used for model building"
   ]
  },
  {
   "cell_type": "code",
   "execution_count": 65,
   "metadata": {
    "ExecuteTime": {
     "end_time": "2024-11-19T19:05:26.578698Z",
     "start_time": "2024-11-19T19:05:26.252606Z"
    }
   },
   "outputs": [],
   "source": [
    "imdb_df.to_csv('IMDB Model Data/imdb_data.csv', index=False)\n",
    "reviewed_df.to_csv('IMDB Model Data/reviewed_data.csv', index=False)"
   ]
  },
  {
   "cell_type": "code",
   "execution_count": 66,
   "metadata": {
    "ExecuteTime": {
     "end_time": "2024-11-19T19:18:43.733528Z",
     "start_time": "2024-11-19T19:18:43.291180Z"
    }
   },
   "outputs": [
    {
     "data": {
      "text/html": [
       "<div>\n",
       "<style scoped>\n",
       "    .dataframe tbody tr th:only-of-type {\n",
       "        vertical-align: middle;\n",
       "    }\n",
       "\n",
       "    .dataframe tbody tr th {\n",
       "        vertical-align: top;\n",
       "    }\n",
       "\n",
       "    .dataframe thead th {\n",
       "        text-align: right;\n",
       "    }\n",
       "</style>\n",
       "<table border=\"1\" class=\"dataframe\">\n",
       "  <thead>\n",
       "    <tr style=\"text-align: right;\">\n",
       "      <th></th>\n",
       "      <th>Const</th>\n",
       "      <th>Title</th>\n",
       "      <th>Director</th>\n",
       "      <th>Famous Director</th>\n",
       "      <th>ReleaseYear</th>\n",
       "      <th>Age</th>\n",
       "      <th>Runtime</th>\n",
       "      <th>LongMovie</th>\n",
       "      <th>genres</th>\n",
       "      <th>Genre1</th>\n",
       "      <th>...</th>\n",
       "      <th>is_chris_evans</th>\n",
       "      <th>is_christian_bale</th>\n",
       "      <th>is_chris_pratt</th>\n",
       "      <th>is_jonah_hill</th>\n",
       "      <th>is_rosalie_chiang</th>\n",
       "      <th>is_brie_larson</th>\n",
       "      <th>is_gemma_chan</th>\n",
       "      <th>is_New</th>\n",
       "      <th>is_Old</th>\n",
       "      <th>is_Classic</th>\n",
       "    </tr>\n",
       "  </thead>\n",
       "  <tbody>\n",
       "    <tr>\n",
       "      <th>0</th>\n",
       "      <td>tt0111161</td>\n",
       "      <td>The Shawshank Redemption</td>\n",
       "      <td>Frank Darabont</td>\n",
       "      <td>False</td>\n",
       "      <td>1994</td>\n",
       "      <td>30</td>\n",
       "      <td>142</td>\n",
       "      <td>True</td>\n",
       "      <td>Drama</td>\n",
       "      <td>Drama</td>\n",
       "      <td>...</td>\n",
       "      <td>False</td>\n",
       "      <td>False</td>\n",
       "      <td>False</td>\n",
       "      <td>False</td>\n",
       "      <td>False</td>\n",
       "      <td>False</td>\n",
       "      <td>False</td>\n",
       "      <td>False</td>\n",
       "      <td>False</td>\n",
       "      <td>True</td>\n",
       "    </tr>\n",
       "    <tr>\n",
       "      <th>2</th>\n",
       "      <td>tt0468569</td>\n",
       "      <td>The Dark Knight</td>\n",
       "      <td>Christopher Nolan</td>\n",
       "      <td>True</td>\n",
       "      <td>2008</td>\n",
       "      <td>16</td>\n",
       "      <td>152</td>\n",
       "      <td>True</td>\n",
       "      <td>Action,Crime,Drama</td>\n",
       "      <td>Action</td>\n",
       "      <td>...</td>\n",
       "      <td>False</td>\n",
       "      <td>True</td>\n",
       "      <td>False</td>\n",
       "      <td>False</td>\n",
       "      <td>False</td>\n",
       "      <td>False</td>\n",
       "      <td>False</td>\n",
       "      <td>False</td>\n",
       "      <td>True</td>\n",
       "      <td>False</td>\n",
       "    </tr>\n",
       "    <tr>\n",
       "      <th>7</th>\n",
       "      <td>tt0110912</td>\n",
       "      <td>Pulp Fiction</td>\n",
       "      <td>Quentin Tarantino</td>\n",
       "      <td>True</td>\n",
       "      <td>1994</td>\n",
       "      <td>30</td>\n",
       "      <td>154</td>\n",
       "      <td>True</td>\n",
       "      <td>Crime,Drama</td>\n",
       "      <td>Crime</td>\n",
       "      <td>...</td>\n",
       "      <td>False</td>\n",
       "      <td>False</td>\n",
       "      <td>False</td>\n",
       "      <td>False</td>\n",
       "      <td>False</td>\n",
       "      <td>False</td>\n",
       "      <td>False</td>\n",
       "      <td>False</td>\n",
       "      <td>False</td>\n",
       "      <td>True</td>\n",
       "    </tr>\n",
       "    <tr>\n",
       "      <th>9</th>\n",
       "      <td>tt1375666</td>\n",
       "      <td>Inception</td>\n",
       "      <td>Christopher Nolan</td>\n",
       "      <td>True</td>\n",
       "      <td>2010</td>\n",
       "      <td>14</td>\n",
       "      <td>148</td>\n",
       "      <td>True</td>\n",
       "      <td>Action,Adventure,Sci-Fi</td>\n",
       "      <td>Action</td>\n",
       "      <td>...</td>\n",
       "      <td>False</td>\n",
       "      <td>False</td>\n",
       "      <td>False</td>\n",
       "      <td>False</td>\n",
       "      <td>False</td>\n",
       "      <td>False</td>\n",
       "      <td>False</td>\n",
       "      <td>False</td>\n",
       "      <td>True</td>\n",
       "      <td>False</td>\n",
       "    </tr>\n",
       "    <tr>\n",
       "      <th>10</th>\n",
       "      <td>tt0137523</td>\n",
       "      <td>Fight Club</td>\n",
       "      <td>David Fincher</td>\n",
       "      <td>True</td>\n",
       "      <td>1999</td>\n",
       "      <td>25</td>\n",
       "      <td>139</td>\n",
       "      <td>True</td>\n",
       "      <td>Drama</td>\n",
       "      <td>Drama</td>\n",
       "      <td>...</td>\n",
       "      <td>False</td>\n",
       "      <td>False</td>\n",
       "      <td>False</td>\n",
       "      <td>False</td>\n",
       "      <td>False</td>\n",
       "      <td>False</td>\n",
       "      <td>False</td>\n",
       "      <td>False</td>\n",
       "      <td>True</td>\n",
       "      <td>False</td>\n",
       "    </tr>\n",
       "  </tbody>\n",
       "</table>\n",
       "<p>5 rows × 56 columns</p>\n",
       "</div>"
      ],
      "text/plain": [
       "        Const                     Title           Director  Famous Director  \\\n",
       "0   tt0111161  The Shawshank Redemption     Frank Darabont            False   \n",
       "2   tt0468569           The Dark Knight  Christopher Nolan             True   \n",
       "7   tt0110912              Pulp Fiction  Quentin Tarantino             True   \n",
       "9   tt1375666                 Inception  Christopher Nolan             True   \n",
       "10  tt0137523                Fight Club      David Fincher             True   \n",
       "\n",
       "    ReleaseYear  Age  Runtime  LongMovie                   genres  Genre1  \\\n",
       "0          1994   30      142       True                    Drama   Drama   \n",
       "2          2008   16      152       True       Action,Crime,Drama  Action   \n",
       "7          1994   30      154       True              Crime,Drama   Crime   \n",
       "9          2010   14      148       True  Action,Adventure,Sci-Fi  Action   \n",
       "10         1999   25      139       True                    Drama   Drama   \n",
       "\n",
       "    ... is_chris_evans is_christian_bale  is_chris_pratt  is_jonah_hill  \\\n",
       "0   ...          False             False           False          False   \n",
       "2   ...          False              True           False          False   \n",
       "7   ...          False             False           False          False   \n",
       "9   ...          False             False           False          False   \n",
       "10  ...          False             False           False          False   \n",
       "\n",
       "    is_rosalie_chiang  is_brie_larson  is_gemma_chan is_New is_Old is_Classic  \n",
       "0               False           False          False  False  False       True  \n",
       "2               False           False          False  False   True      False  \n",
       "7               False           False          False  False  False       True  \n",
       "9               False           False          False  False   True      False  \n",
       "10              False           False          False  False   True      False  \n",
       "\n",
       "[5 rows x 56 columns]"
      ]
     },
     "execution_count": 66,
     "metadata": {},
     "output_type": "execute_result"
    }
   ],
   "source": [
    "reviewed_df.head()"
   ]
  },
  {
   "cell_type": "code",
   "execution_count": null,
   "metadata": {},
   "outputs": [],
   "source": []
  }
 ],
 "metadata": {
  "kernelspec": {
   "display_name": "base",
   "language": "python",
   "name": "python3"
  },
  "language_info": {
   "codemirror_mode": {
    "name": "ipython",
    "version": 3
   },
   "file_extension": ".py",
   "mimetype": "text/x-python",
   "name": "python",
   "nbconvert_exporter": "python",
   "pygments_lexer": "ipython3",
   "version": "3.11.7"
  }
 },
 "nbformat": 4,
 "nbformat_minor": 2
}
